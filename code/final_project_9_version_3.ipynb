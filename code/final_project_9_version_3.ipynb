{
 "cells": [
  {
   "cell_type": "markdown",
   "id": "parental-passenger",
   "metadata": {
    "id": "parental-passenger"
   },
   "source": [
    "# Data Description\n",
    "\n",
    "You are provided with historical sales data for 45 Walmart stores located in different regions. Each store contains a number of departments, and you are tasked with predicting the department-wide sales for each store.\n",
    "\n",
    "In addition, Walmart runs several promotional markdown events throughout the year. These markdowns precede prominent holidays, the four largest of which are the Super Bowl, Labor Day, Thanksgiving, and Christmas. The weeks including these holidays are weighted five times higher in the evaluation than non-holiday weeks. Part of the challenge presented by this competition is modeling the effects of markdowns on these holiday weeks in the absence of complete/ideal historical data.\n",
    "\n",
    "##### stores.csv\n",
    "\n",
    "This file contains anonymized information about the 45 stores, indicating the type and size of store.\n",
    "\n",
    "##### train.csv\n",
    "\n",
    "This is the historical training data, which covers to 2010-02-05 to 2012-11-01. Within this file you will find the following fields:\n",
    "\n",
    "- Store - the store number\n",
    "- Dept - the department number\n",
    "- Date - the week\n",
    "- Weekly_Sales -  sales for the given department in the given store\n",
    "- IsHoliday - whether the week is a special holiday week\n",
    "\n",
    "##### test.csv\n",
    "\n",
    "This file is identical to train.csv, except we have withheld the weekly sales. You must predict the sales for each triplet of store, department, and date in this file.\n",
    "\n",
    "##### features.csv\n",
    "\n",
    "This file contains additional data related to the store, department, and regional activity for the given dates. It contains the following fields:\n",
    "\n",
    "- Store - the store number\n",
    "- Date - the week\n",
    "- Temperature - average temperature in the region\n",
    "- Fuel_Price - cost of fuel in the region\n",
    "- MarkDown1-5 - anonymized data related to promotional markdowns that Walmart is running. MarkDown data is only available after Nov 2011, and is not available for all stores all the time. Any missing value is marked with an NA.\n",
    "- CPI - the consumer price index (The Consumer Price Index measures the average change in prices over time that consumers pay for a basket of goods and services.)\n",
    "- Unemployment - the unemployment rate\n",
    "- IsHoliday - whether the week is a special holiday week\n",
    "\n",
    "For convenience, the four holidays fall within the following weeks in the dataset (not all holidays are in the data):\n",
    "\n",
    "Super Bowl: 12-Feb-10, 11-Feb-11, 10-Feb-12, 8-Feb-13\n",
    "Labor Day: 10-Sep-10, 9-Sep-11, 7-Sep-12, 6-Sep-13\n",
    "Thanksgiving: 26-Nov-10, 25-Nov-11, 23-Nov-12, 29-Nov-13\n",
    "Christmas: 31-Dec-10, 30-Dec-11, 28-Dec-12, 27-Dec-13"
   ]
  },
  {
   "cell_type": "markdown",
   "id": "corporate-defensive",
   "metadata": {
    "id": "corporate-defensive"
   },
   "source": [
    "# Import libraries and load data"
   ]
  },
  {
   "cell_type": "code",
   "execution_count": null,
   "id": "contemporary-sessions",
   "metadata": {
    "colab": {
     "base_uri": "https://localhost:8080/",
     "height": 17
    },
    "id": "contemporary-sessions",
    "outputId": "56338a2e-0f34-4f91-e82c-e4877aaf7078"
   },
   "outputs": [],
   "source": [
    "# import libraries\n",
    "\n",
    "import numpy as np \n",
    "import pandas as pd \n",
    "\n",
    "# data viz libraries\n",
    "import seaborn as sns\n",
    "sns.set(style=\"whitegrid\") # to make charts look better\n",
    "import matplotlib.pyplot as plt\n",
    "%matplotlib inline\n",
    "\n",
    "# for functions\n",
    "from tqdm import tqdm\n",
    "\n",
    "# for ML\n",
    "import datetime\n",
    "import warnings\n",
    "warnings.filterwarnings('ignore')\n",
    "warnings.filterwarnings(\"ignore\", message=\"numpy.ufunc size changed\")\n",
    "pd.set_option('display.max_columns', None)\n",
    "from sklearn.linear_model import LinearRegression\n",
    "from sklearn.metrics import accuracy_score\n",
    "import statsmodels.api as sm\n",
    "from sklearn.preprocessing import Normalizer\n",
    "from sklearn.linear_model import LogisticRegression\n",
    "from sklearn.model_selection import train_test_split\n",
    "from sklearn.metrics import accuracy_score \n",
    "from sklearn.preprocessing import LabelEncoder\n",
    "from sklearn.preprocessing import StandardScaler\n",
    "from sklearn.metrics import classification_report\n",
    "\n",
    "# import plotly modules\n",
    "import chart_studio.plotly as py\n",
    "import cufflinks as cf\n",
    "import plotly.express as px\n",
    "import plotly.figure_factory as ff\n",
    "\n",
    "# make it work on jupyter notebook\n",
    "from plotly.offline import download_plotlyjs, init_notebook_mode, plot, iplot\n",
    "init_notebook_mode(connected=True)\n",
    "\n",
    "# Use Plotly locally\n",
    "cf.go_offline()"
   ]
  },
  {
   "cell_type": "code",
   "execution_count": null,
   "id": "backed-covering",
   "metadata": {
    "id": "backed-covering"
   },
   "outputs": [],
   "source": [
    "# load datasets\n",
    "dataFeatures = pd.read_csv(\"C:/Users/digit/Desktop/Ironhack/project-week-9-final-project/data/features.csv\")\n",
    "dataStores = pd.read_csv(\"C:/Users/digit/Desktop/Ironhack/project-week-9-final-project/data/stores.csv\")\n",
    "dataTest = pd.read_csv(\"C:/Users/digit/Desktop/Ironhack/project-week-9-final-project/data/test.csv\")\n",
    "dataTrain = pd.read_csv(\"C:/Users/digit/Desktop/Ironhack/project-week-9-final-project/data/train.csv\")"
   ]
  },
  {
   "cell_type": "markdown",
   "id": "regulated-memorial",
   "metadata": {
    "id": "regulated-memorial"
   },
   "source": [
    "# EDA and Data Cleaning\n",
    "\n",
    "- Here we will explore the data in order to search for patterns relationships and to understand them better. \n",
    "- Perform data cleaning if neccessary and data wrangling.\n",
    "   "
   ]
  },
  {
   "cell_type": "code",
   "execution_count": null,
   "id": "russian-mountain",
   "metadata": {
    "colab": {
     "base_uri": "https://localhost:8080/",
     "height": 204
    },
    "id": "russian-mountain",
    "outputId": "be43a57b-ac07-4e93-d3e7-317974141f0a",
    "scrolled": true
   },
   "outputs": [],
   "source": [
    "dataStores.head(5)"
   ]
  },
  {
   "cell_type": "code",
   "execution_count": null,
   "id": "bacterial-rescue",
   "metadata": {
    "colab": {
     "base_uri": "https://localhost:8080/"
    },
    "id": "bacterial-rescue",
    "outputId": "34e3521f-3554-489a-92e0-4118c95aeca3"
   },
   "outputs": [],
   "source": [
    "dataStores.shape "
   ]
  },
  {
   "cell_type": "code",
   "execution_count": null,
   "id": "weird-aviation",
   "metadata": {
    "colab": {
     "base_uri": "https://localhost:8080/",
     "height": 204
    },
    "id": "weird-aviation",
    "outputId": "25d4d000-db60-498d-f74e-2c358f36e3c7",
    "scrolled": false
   },
   "outputs": [],
   "source": [
    "dataFeatures.tail(5)"
   ]
  },
  {
   "cell_type": "code",
   "execution_count": null,
   "id": "canadian-antibody",
   "metadata": {
    "colab": {
     "base_uri": "https://localhost:8080/"
    },
    "id": "canadian-antibody",
    "outputId": "00d500cb-1b9e-43b2-ab8c-a5eebd39f4a0"
   },
   "outputs": [],
   "source": [
    "dataFeatures.shape"
   ]
  },
  {
   "cell_type": "code",
   "execution_count": null,
   "id": "driving-spine",
   "metadata": {
    "colab": {
     "base_uri": "https://localhost:8080/",
     "height": 204
    },
    "id": "driving-spine",
    "outputId": "ea0899b6-3baf-4811-d47c-258b67d4aa46",
    "scrolled": false
   },
   "outputs": [],
   "source": [
    "# we will start by merging dataStores and dataFeatures since Features is the extension of Stores\n",
    "FeatSto = dataFeatures.merge(dataStores, how=\"inner\", on=\"Store\")\n",
    "\n",
    "# check the head of the new df\n",
    "FeatSto.head(5)"
   ]
  },
  {
   "cell_type": "code",
   "execution_count": null,
   "id": "chicken-small",
   "metadata": {
    "colab": {
     "base_uri": "https://localhost:8080/"
    },
    "id": "chicken-small",
    "outputId": "3a8d1e90-97ee-4d74-88fc-d2ad565bb160"
   },
   "outputs": [],
   "source": [
    "FeatSto.shape"
   ]
  },
  {
   "cell_type": "code",
   "execution_count": null,
   "id": "mediterranean-geneva",
   "metadata": {
    "colab": {
     "base_uri": "https://localhost:8080/"
    },
    "id": "mediterranean-geneva",
    "outputId": "56d54969-2860-4cd2-c803-8581d11af59b",
    "scrolled": true
   },
   "outputs": [],
   "source": [
    "# check the dtypes in FeatSto\n",
    "FeatSto.dtypes\n",
    "\n",
    "# Type is of categorical nature\n",
    "# IsHoliday of binary categorical nature \n",
    "\n",
    "# the rest are numerical\n",
    "# some of the features might contain numerical values but still behave as categorical\n",
    "# Date is string and we will convert it into datetime later or drop it"
   ]
  },
  {
   "cell_type": "code",
   "execution_count": null,
   "id": "reported-ordinary",
   "metadata": {
    "colab": {
     "base_uri": "https://localhost:8080/"
    },
    "id": "reported-ordinary",
    "outputId": "e8e9d9ef-98aa-49c6-de07-ee005f99e19f"
   },
   "outputs": [],
   "source": [
    "# check for missing values\n",
    "FeatSto.isnull().sum()"
   ]
  },
  {
   "cell_type": "markdown",
   "id": "flexible-monkey",
   "metadata": {
    "id": "flexible-monkey"
   },
   "source": [
    "## Inspect the train and test data (dataTrain and dataTest)"
   ]
  },
  {
   "cell_type": "code",
   "execution_count": null,
   "id": "likely-bosnia",
   "metadata": {
    "colab": {
     "base_uri": "https://localhost:8080/",
     "height": 204
    },
    "id": "likely-bosnia",
    "outputId": "c4b600e7-7314-4fe2-cc22-a796443a7ca7",
    "scrolled": true
   },
   "outputs": [],
   "source": [
    "dataTest.head(5)"
   ]
  },
  {
   "cell_type": "code",
   "execution_count": null,
   "id": "massive-forwarding",
   "metadata": {
    "colab": {
     "base_uri": "https://localhost:8080/"
    },
    "id": "massive-forwarding",
    "outputId": "54a82154-e39c-48d9-bc0b-13f5e8664952"
   },
   "outputs": [],
   "source": [
    "dataTest.shape"
   ]
  },
  {
   "cell_type": "code",
   "execution_count": null,
   "id": "natural-staff",
   "metadata": {
    "colab": {
     "base_uri": "https://localhost:8080/",
     "height": 204
    },
    "id": "natural-staff",
    "outputId": "5bbe8ee4-de67-4467-aafd-23ffd8a4011e",
    "scrolled": true
   },
   "outputs": [],
   "source": [
    "# as we can see  dataTrain includes additional Weekly_Sales\n",
    "dataTrain.tail(5)"
   ]
  },
  {
   "cell_type": "code",
   "execution_count": null,
   "id": "national-biodiversity",
   "metadata": {
    "colab": {
     "base_uri": "https://localhost:8080/"
    },
    "id": "national-biodiversity",
    "outputId": "156a2614-9ef9-4b45-e469-16d570028135",
    "scrolled": true
   },
   "outputs": [],
   "source": [
    "dataTrain.shape"
   ]
  },
  {
   "cell_type": "code",
   "execution_count": null,
   "id": "declared-piano",
   "metadata": {
    "colab": {
     "base_uri": "https://localhost:8080/"
    },
    "id": "declared-piano",
    "outputId": "cc6f98ec-4250-474b-85d9-39e9300cca84"
   },
   "outputs": [],
   "source": [
    "dataTest.dtypes"
   ]
  },
  {
   "cell_type": "code",
   "execution_count": null,
   "id": "automated-uniform",
   "metadata": {
    "colab": {
     "base_uri": "https://localhost:8080/"
    },
    "id": "automated-uniform",
    "outputId": "929a6f21-d3e2-4b06-d57b-05b6b91ed09e",
    "scrolled": true
   },
   "outputs": [],
   "source": [
    "dataTrain.dtypes"
   ]
  },
  {
   "cell_type": "code",
   "execution_count": null,
   "id": "wooden-immune",
   "metadata": {
    "colab": {
     "base_uri": "https://localhost:8080/",
     "height": 309
    },
    "id": "wooden-immune",
    "outputId": "3d0864a3-5ad8-43bf-e1dd-9e3072a6e29f",
    "scrolled": false
   },
   "outputs": [],
   "source": [
    "# we will disregard the dataTest and use only dataTrain\n",
    "# (we will train-test split the data later)\n",
    "# merge dataTrain with Featsto ->dfwTrain\n",
    "# now we have a dataframe containing dataTrain\n",
    "# FeatSto with dataTrain\n",
    "\n",
    "dfwTrain = pd.merge(FeatSto, dataTrain, how=\"inner\", on=[\"Store\", \"Date\", \"IsHoliday\"])\n",
    "\n",
    "dfwTrain.head(5)"
   ]
  },
  {
   "cell_type": "code",
   "execution_count": null,
   "id": "revolutionary-professor",
   "metadata": {
    "colab": {
     "base_uri": "https://localhost:8080/"
    },
    "id": "revolutionary-professor",
    "outputId": "bc9b995b-a6dc-4ccc-b4b8-07461710ef5d"
   },
   "outputs": [],
   "source": [
    "dfwTrain.shape"
   ]
  },
  {
   "cell_type": "code",
   "execution_count": null,
   "id": "outstanding-metallic",
   "metadata": {
    "colab": {
     "base_uri": "https://localhost:8080/",
     "height": 309
    },
    "id": "outstanding-metallic",
    "outputId": "b9e90bd6-8162-41d7-bca3-73d72e5cc657",
    "scrolled": true
   },
   "outputs": [],
   "source": [
    "dfwTrain.tail(5)"
   ]
  },
  {
   "cell_type": "code",
   "execution_count": null,
   "id": "based-buddy",
   "metadata": {
    "colab": {
     "base_uri": "https://localhost:8080/",
     "height": 309
    },
    "id": "based-buddy",
    "outputId": "54c51f2f-1005-406c-c826-170c0d5574ce",
    "scrolled": false
   },
   "outputs": [],
   "source": [
    "# rename dfwTrain into df_total\n",
    "\n",
    "df_total = dfwTrain\n",
    "\n",
    "# show the head of the total dataframe\n",
    "\n",
    "df_total.head()"
   ]
  },
  {
   "cell_type": "code",
   "execution_count": null,
   "id": "spare-furniture",
   "metadata": {
    "colab": {
     "base_uri": "https://localhost:8080/",
     "height": 309
    },
    "id": "spare-furniture",
    "outputId": "b843d59e-8597-4b6a-cbe3-306d6603a602",
    "scrolled": true
   },
   "outputs": [],
   "source": [
    "# show the tail\n",
    "\n",
    "df_total.tail()\n",
    "\n",
    "# first impression:\n",
    "# Date is the week\n",
    "# Markdowns 1 - 5 contain a lot of missing values\n",
    "# Weekly_Sales is numerical continuous data"
   ]
  },
  {
   "cell_type": "code",
   "execution_count": null,
   "id": "removed-neighborhood",
   "metadata": {
    "colab": {
     "base_uri": "https://localhost:8080/"
    },
    "id": "removed-neighborhood",
    "outputId": "a93f5ad3-516b-4a5e-f7c2-078fe87e91b6"
   },
   "outputs": [],
   "source": [
    "# check the shape of df_total\n",
    "\n",
    "df_total.shape"
   ]
  },
  {
   "cell_type": "code",
   "execution_count": null,
   "id": "extreme-handy",
   "metadata": {
    "colab": {
     "base_uri": "https://localhost:8080/"
    },
    "id": "extreme-handy",
    "outputId": "cf75b843-dcbf-489b-f864-26d7d2995648"
   },
   "outputs": [],
   "source": [
    "# check the dtypes of df_total\n",
    "\n",
    "df_total.dtypes\n",
    "\n",
    "# most features have numerical values\n",
    "# Date, Type is a string\n",
    "# some features with numerical values might behave as categoricals, encode them later\n",
    "# such as Type, IsHoliday"
   ]
  },
  {
   "cell_type": "code",
   "execution_count": null,
   "id": "hundred-value",
   "metadata": {
    "colab": {
     "base_uri": "https://localhost:8080/"
    },
    "id": "hundred-value",
    "outputId": "b47cdd9a-0280-4cc6-97ad-51daa42a3af0"
   },
   "outputs": [],
   "source": [
    "# now we can check for missing values\n",
    "\n",
    "df_total.isnull().sum()"
   ]
  },
  {
   "cell_type": "code",
   "execution_count": null,
   "id": "parental-paragraph",
   "metadata": {
    "colab": {
     "base_uri": "https://localhost:8080/"
    },
    "id": "parental-paragraph",
    "outputId": "0f78c0c5-b638-4d9a-c2dc-8ae221465b96"
   },
   "outputs": [],
   "source": [
    "# calculate the percentage of missing values in each column\n",
    "\n",
    "df_total.isnull().sum() / len(df_total)\n",
    "\n",
    "# if the column contains 85% missing values then it should be dropped\n",
    "# MarkDown1-5 contains anonymized data and lots of missing values, despite that they contain important data"
   ]
  },
  {
   "cell_type": "code",
   "execution_count": null,
   "id": "alike-companion",
   "metadata": {
    "colab": {
     "base_uri": "https://localhost:8080/",
     "height": 309
    },
    "id": "alike-companion",
    "outputId": "2dc735a5-2d1a-45be-8f42-2e11979e8a0c"
   },
   "outputs": [],
   "source": [
    "# instead of dropping, we will fill the NaN values with zero values\n",
    "# because the code was executed the first time, when we execute it again, it will show an error\n",
    "df_total.fillna(0, inplace=True)\n",
    "\n",
    "df_total.head()"
   ]
  },
  {
   "cell_type": "code",
   "execution_count": null,
   "id": "satisfactory-selection",
   "metadata": {
    "colab": {
     "base_uri": "https://localhost:8080/"
    },
    "id": "satisfactory-selection",
    "outputId": "b5f0a21a-943c-4674-c599-a63fabc32b92",
    "scrolled": true
   },
   "outputs": [],
   "source": [
    "# check for missing values again\n",
    "\n",
    "df_total.isnull().sum()"
   ]
  },
  {
   "cell_type": "code",
   "execution_count": null,
   "id": "enclosed-journal",
   "metadata": {
    "colab": {
     "base_uri": "https://localhost:8080/"
    },
    "id": "enclosed-journal",
    "outputId": "2fceb335-b7e4-4524-ab55-64f8eb9a8227"
   },
   "outputs": [],
   "source": [
    "# check for duplicated values\n",
    "\n",
    "df_total.duplicated().sum()\n",
    "\n",
    "# no duplicates"
   ]
  },
  {
   "cell_type": "code",
   "execution_count": null,
   "id": "demanding-canal",
   "metadata": {
    "colab": {
     "base_uri": "https://localhost:8080/",
     "height": 309
    },
    "id": "demanding-canal",
    "outputId": "f961007b-4e9e-4b6c-81ac-4a7396bd9d9a",
    "scrolled": false
   },
   "outputs": [],
   "source": [
    "# add a Month column\n",
    "\n",
    "df_total[\"Month\"] = pd.to_datetime(df_total['Date']).dt.month\n",
    "df_total.sample(5) "
   ]
  },
  {
   "cell_type": "code",
   "execution_count": null,
   "id": "average-thomas",
   "metadata": {
    "colab": {
     "base_uri": "https://localhost:8080/",
     "height": 309
    },
    "id": "average-thomas",
    "outputId": "073e5581-608e-4dd9-baf4-6caf1d1bfe0f"
   },
   "outputs": [],
   "source": [
    "## add a Week column \n",
    "df_total[\"Week\"] = pd.to_datetime(df_total[\"Date\"]).dt.week\n",
    "df_total.sample(5)"
   ]
  },
  {
   "cell_type": "code",
   "execution_count": null,
   "id": "computational-nickel",
   "metadata": {
    "colab": {
     "base_uri": "https://localhost:8080/",
     "height": 309
    },
    "id": "computational-nickel",
    "outputId": "a7807d52-a338-4517-cb89-b15426aa1c0a",
    "scrolled": true
   },
   "outputs": [],
   "source": [
    "# add Year column\n",
    "df_total[\"Year\"] = pd.to_datetime(df_total[\"Date\"]).dt.year \n",
    "df_total.sample(5)"
   ]
  },
  {
   "cell_type": "code",
   "execution_count": null,
   "id": "charged-lodge",
   "metadata": {
    "colab": {
     "base_uri": "https://localhost:8080/"
    },
    "id": "charged-lodge",
    "outputId": "40a43e91-a015-48b7-f3f5-a61e48d3a406",
    "scrolled": true
   },
   "outputs": [],
   "source": [
    "# convert \"Date\" column to datetime format\n",
    "df_total[\"Date\"] = pd.to_datetime(df_total[\"Date\"])\n",
    "df_total.dtypes"
   ]
  },
  {
   "cell_type": "code",
   "execution_count": null,
   "id": "surface-kinase",
   "metadata": {
    "colab": {
     "base_uri": "https://localhost:8080/",
     "height": 309
    },
    "id": "surface-kinase",
    "outputId": "0ad97942-3dfe-43a9-9db5-472e38c6a4c1"
   },
   "outputs": [],
   "source": [
    "df_total.head()"
   ]
  },
  {
   "cell_type": "code",
   "execution_count": null,
   "id": "federal-forest",
   "metadata": {
    "colab": {
     "base_uri": "https://localhost:8080/",
     "height": 524
    },
    "id": "federal-forest",
    "outputId": "2d88a92a-a2db-4765-a33e-8a7049da671f",
    "scrolled": false
   },
   "outputs": [],
   "source": [
    "# plot Average Monthly Sales - Per Year\n",
    "\n",
    "weekly_sales_2010 = df_total[df_total.Year==2010]['Weekly_Sales'].groupby(df_total['Month']).mean()\n",
    "weekly_sales_2011 = df_total[df_total.Year==2011]['Weekly_Sales'].groupby(df_total['Month']).mean()\n",
    "weekly_sales_2012 = df_total[df_total.Year==2012]['Weekly_Sales'].groupby(df_total['Month']).mean()\n",
    "plt.figure(figsize=(20,8))\n",
    "sns.lineplot(weekly_sales_2010.index, weekly_sales_2010.values)\n",
    "sns.lineplot(weekly_sales_2011.index, weekly_sales_2011.values)\n",
    "sns.lineplot(weekly_sales_2012.index, weekly_sales_2012.values)\n",
    "plt.grid()\n",
    "plt.xticks(np.arange(1, 13, step=1))\n",
    "plt.legend(['2010', '2011', '2012'], loc='best', fontsize=16)\n",
    "plt.title('Average Monthly Sales - Per Year', fontsize=18)\n",
    "plt.ylabel('Sales', fontsize=16)\n",
    "plt.xlabel('Month', fontsize=16)\n",
    "plt.show()\n",
    "\n",
    "# 2012 compared to the rest was not doing so well\n",
    "\n",
    "# there is a sharp rise in Sales between January and February, which is connected to SuperBowl\n",
    "# and as we can see, the Monthly Sales are usually spiking in November and December\n",
    "# when Thanksgiving and Christmas are happening\n",
    "\n"
   ]
  },
  {
   "cell_type": "code",
   "execution_count": null,
   "id": "statistical-transmission",
   "metadata": {
    "colab": {
     "base_uri": "https://localhost:8080/",
     "height": 542
    },
    "id": "statistical-transmission",
    "outputId": "23c96b9d-9431-43a2-af18-8cd711441676",
    "scrolled": false
   },
   "outputs": [],
   "source": [
    "# use Plotly to plot TimeSeries to see whether Date affects Weekly_Sales\n",
    "# make one plot\n",
    "\n",
    "px.line(df_total, x=\"Date\", y=\"Weekly_Sales\", labels={\"x\":\"Date\", \"y\":\"Weekly_Sales\"},\n",
    "       title=\"Weekly Sales across Feb 2010 - Oct 2012\")\n",
    "\n",
    "# in more detail, we can see how Date affects Weekly Sales\n",
    "# the highest spikes are on Thanksgiving Day and Christmas Day\n",
    "# as we have seen in the previous plot, 2012 was not so good in terms of sales for Walmart"
   ]
  },
  {
   "cell_type": "code",
   "execution_count": null,
   "id": "musical-aviation",
   "metadata": {
    "colab": {
     "base_uri": "https://localhost:8080/",
     "height": 224
    },
    "id": "musical-aviation",
    "outputId": "5e0d77e5-1894-4502-e30e-21086e3c3f53",
    "scrolled": true
   },
   "outputs": [],
   "source": [
    "# now we can drop Date column now\n",
    "\n",
    "df_total.drop([\"Date\"], inplace=True, axis=1)\n",
    "df_total.sample(5)"
   ]
  },
  {
   "cell_type": "markdown",
   "id": "electronic-injection",
   "metadata": {
    "id": "electronic-injection"
   },
   "source": [
    "For Linear Regression, we need to have numerical values. Thus we will encode the categorical features from the dataset into numerical values.\n",
    "\n",
    "Since it's of categorical text data. We use Label Encoder to convert them into model-understandable numerical data."
   ]
  },
  {
   "cell_type": "code",
   "execution_count": null,
   "id": "fifteen-local",
   "metadata": {
    "id": "fifteen-local"
   },
   "outputs": [],
   "source": [
    "# encode Type\n",
    "\n",
    "from sklearn.preprocessing import LabelEncoder\n",
    "  \n",
    "le = LabelEncoder()\n",
    "df_total['Type']= le.fit_transform(df_total['Type'])"
   ]
  },
  {
   "cell_type": "code",
   "execution_count": null,
   "id": "lasting-entertainment",
   "metadata": {
    "id": "lasting-entertainment"
   },
   "outputs": [],
   "source": [
    "# encode IsHoliday\n",
    "\n",
    "df_total['IsHoliday'] = le.fit_transform(df_total['IsHoliday'])"
   ]
  },
  {
   "cell_type": "code",
   "execution_count": null,
   "id": "engaging-array",
   "metadata": {
    "colab": {
     "base_uri": "https://localhost:8080/"
    },
    "id": "engaging-array",
    "outputId": "38958ea1-3a13-49ca-f84c-afd6b4912496"
   },
   "outputs": [],
   "source": [
    "df_total.shape"
   ]
  },
  {
   "cell_type": "code",
   "execution_count": null,
   "id": "boring-proportion",
   "metadata": {
    "id": "boring-proportion",
    "scrolled": false
   },
   "outputs": [],
   "source": [
    "# took a sample with the size of 5000, which should be enough to better understand the relationship between the columns\n",
    "\n",
    "# had problems with loading the plot, that's why I saved an image of it\n",
    "\n",
    "# sns.pairplot(df_total.sample(5000), size = 5)\n",
    "\n",
    "#from IPython.display import Image\n",
    "#Image(\"sns_pairplot_df_total.png\")\n"
   ]
  },
  {
   "cell_type": "code",
   "execution_count": null,
   "id": "defensive-industry",
   "metadata": {
    "colab": {
     "base_uri": "https://localhost:8080/"
    },
    "id": "defensive-industry",
    "outputId": "fe3a35af-661a-4117-ee17-a3a98252f395"
   },
   "outputs": [],
   "source": [
    "df_total.columns"
   ]
  },
  {
   "cell_type": "code",
   "execution_count": null,
   "id": "upset-tuesday",
   "metadata": {
    "colab": {
     "base_uri": "https://localhost:8080/",
     "height": 1000
    },
    "id": "upset-tuesday",
    "outputId": "f0bdc982-8ee1-4521-a168-bfe8508db173"
   },
   "outputs": [],
   "source": [
    "# plot a scatter matrix in plotly (because sns.pairplot was too heavy)\n",
    "\n",
    "fig = px.scatter_matrix(df_total.sample(1000), dimensions=['Store', 'Temperature', 'Fuel_Price', 'MarkDown1', 'MarkDown2',\n",
    "       'MarkDown3', 'MarkDown4', 'MarkDown5', 'CPI', 'Unemployment',\n",
    "       'IsHoliday', 'Type', 'Size', 'Dept', 'Weekly_Sales', 'Month', 'Week',\n",
    "       'Year'], height=5000, width=5000, title=\"Scatter Matrix\", size_max=20)\n",
    "fig.show()\n",
    "\n",
    "# no correlation between features mostly\n",
    "# we can drop Type later\n",
    "# we can drop Size later"
   ]
  },
  {
   "cell_type": "code",
   "execution_count": null,
   "id": "lasting-equation",
   "metadata": {
    "colab": {
     "base_uri": "https://localhost:8080/"
    },
    "id": "lasting-equation",
    "outputId": "1db8b366-2c20-4478-be22-dba43436f8bb"
   },
   "outputs": [],
   "source": [
    "# check for correlations with correlation matrix\n",
    "corr_matrix = df_total.corr(method=\"pearson\") # we chose 'pearson'\n",
    "corr_matrix\n",
    "\n",
    "df_total.corr"
   ]
  },
  {
   "cell_type": "code",
   "execution_count": null,
   "id": "lyric-chocolate",
   "metadata": {
    "colab": {
     "base_uri": "https://localhost:8080/",
     "height": 782
    },
    "id": "lyric-chocolate",
    "outputId": "572a23c0-5b57-4d33-df19-d5545c6dd535",
    "scrolled": true
   },
   "outputs": [],
   "source": [
    "# plot a heatmap for better overview\n",
    "fig, ax = plt.subplots(figsize=(14,12))\n",
    "ax = sns.heatmap(corr_matrix, annot=True)\n",
    "plt.show()\n",
    "\n",
    "# values range between (-1,1)\n",
    "# 0: no correlation at all\n",
    "# 0 - 0.3: weak correlation\n",
    "# 0.3 - 0.7: moderate correlation\n",
    "# 0.7 - 1: strong correlation\n",
    "\n",
    "# strong correlation between MarkDown1 and MarkDown4, drop MarkDown4 later\n",
    "# Year and Fuel_Price show high correlation"
   ]
  },
  {
   "cell_type": "markdown",
   "id": "increasing-mining",
   "metadata": {
    "id": "increasing-mining"
   },
   "source": [
    "Here we will further inspect the relationship between features and our target variable (\"Weekly_Sales\"), and features that are highly correlated with each other in order to prevent"
   ]
  },
  {
   "cell_type": "code",
   "execution_count": null,
   "id": "variable-junction",
   "metadata": {
    "colab": {
     "base_uri": "https://localhost:8080/",
     "height": 542
    },
    "id": "variable-junction",
    "outputId": "5cfe4cd6-aa4c-4d50-86ed-e00cea1ead8b",
    "scrolled": true
   },
   "outputs": [],
   "source": [
    "# visualise a scatter plot in plotly \n",
    "# to see whether there is correlation between Unemployment and Weekly_Sales\n",
    "# since Walmart is a huge retail company that's competitive thanks to cheap prices\n",
    "# but I think Walmart is a default choice for a lot of people who do not know what they want\n",
    "fig = px.scatter(df_total, x=\"Unemployment\", y=\"Weekly_Sales\")\n",
    "fig.show()"
   ]
  },
  {
   "cell_type": "markdown",
   "id": "bound-rates",
   "metadata": {
    "id": "bound-rates"
   },
   "source": [
    "Is there any correlation between the MarkDown1 -5 and Weekly_Sales?"
   ]
  },
  {
   "cell_type": "code",
   "execution_count": null,
   "id": "plastic-broadcasting",
   "metadata": {
    "colab": {
     "base_uri": "https://localhost:8080/",
     "height": 542
    },
    "id": "plastic-broadcasting",
    "outputId": "fe0e7419-9392-4551-d4ce-9205b51e4452",
    "scrolled": false
   },
   "outputs": [],
   "source": [
    "fig = px.scatter(df_total, x=\"MarkDown1\", y=\"Weekly_Sales\")\n",
    "fig.show()"
   ]
  },
  {
   "cell_type": "code",
   "execution_count": null,
   "id": "premium-roommate",
   "metadata": {
    "id": "premium-roommate",
    "scrolled": true
   },
   "outputs": [],
   "source": [
    "fig = px.scatter(df_total, x=\"MarkDown2\", y=\"Weekly_Sales\")\n",
    "fig.show()"
   ]
  },
  {
   "cell_type": "code",
   "execution_count": null,
   "id": "intense-carter",
   "metadata": {
    "id": "intense-carter",
    "scrolled": true
   },
   "outputs": [],
   "source": [
    "fig = px.scatter(df_total, x=\"MarkDown3\", y=\"Weekly_Sales\")\n",
    "fig.show()"
   ]
  },
  {
   "cell_type": "code",
   "execution_count": null,
   "id": "minor-electron",
   "metadata": {
    "id": "minor-electron",
    "scrolled": true
   },
   "outputs": [],
   "source": [
    "fig = px.scatter(df_total, x=\"MarkDown4\", y=\"Weekly_Sales\")\n",
    "fig.show()"
   ]
  },
  {
   "cell_type": "code",
   "execution_count": null,
   "id": "protective-compatibility",
   "metadata": {
    "id": "protective-compatibility",
    "scrolled": true
   },
   "outputs": [],
   "source": [
    "fig = px.scatter(df_total, x=\"MarkDown5\", y=\"Weekly_Sales\")\n",
    "fig.show()"
   ]
  },
  {
   "cell_type": "code",
   "execution_count": null,
   "id": "superior-radical",
   "metadata": {
    "id": "superior-radical",
    "scrolled": true
   },
   "outputs": [],
   "source": [
    "fig = px.scatter(df_total, x=\"MarkDown1\", y=\"MarkDown4\")\n",
    "fig.show()\n",
    "\n",
    "# as we can see there is a positive correlation between MarkDown 1 and Markdown4"
   ]
  },
  {
   "cell_type": "code",
   "execution_count": null,
   "id": "acting-material",
   "metadata": {
    "id": "acting-material"
   },
   "outputs": [],
   "source": [
    "df_total.tail(5)"
   ]
  },
  {
   "cell_type": "code",
   "execution_count": null,
   "id": "incorporated-combining",
   "metadata": {
    "id": "incorporated-combining",
    "scrolled": false
   },
   "outputs": [],
   "source": [
    "# plot a histogram to check frequency distribution\n",
    "\n",
    "df_total.hist(figsize=(20,30), xrot=45, bins=50)\n",
    "plt.show()\n",
    "\n",
    "# Temperature is left-skewed (negative skewness)\n",
    "# MarkDown1-5 heavily imbalanced - perform imputation and apply logarithmic transformation in 2nd iteration (if there is time)\n",
    "# po"
   ]
  },
  {
   "cell_type": "code",
   "execution_count": null,
   "id": "chemical-tsunami",
   "metadata": {
    "id": "chemical-tsunami"
   },
   "outputs": [],
   "source": [
    "# plot histogram with plotly\n",
    "#x1 = df_total[\"Store\"]\n",
    "#x2 = df_total[\"Temperature\"]\n",
    "#x3 = df_total[\"Fuel_Price\"]\n",
    "\n",
    "#x4 = df_total[\"MarkDown1\"]\n",
    "#x5 = df_total[\"MarkDown2\"]\n",
    "#x6 = df_total[\"MarkDown3\"]\n",
    "#x7 = df_total[\"MarkDown4\"]\n",
    "#x8 = df_total[\"MarkDown5\"]\n",
    "\n",
    "#x9 = df_total[\"CPI\"]\n",
    "#x10 = df_total[\"Unemployment\"]\n",
    "#x11 = df_total[\"IsHoliday\"]\n",
    "#x12 = df_total[\"Type\"]\n",
    "#x13 = df_total[\"Size\"]\n",
    "# x14 = df_total[\"Dept\"]\n",
    "\n",
    "# x15 = df_total[\"Weekly_Sales\"]\n",
    "# x16 = df_total[\"Month\"]\n",
    "# x17 = df_total[\"Week\"]\n",
    "# x18 = df_total[\"Year\"]\n",
    "\n",
    "# hist_data = [x1, x2, x3,x4, x5, x6, x7, x8, x9,x10, x11, x12,x13, x14, x15,x16, x17, x18]\n",
    "\n",
    "# group_labels = ['Store', 'Temperature', 'Fuel_Price', 'MarkDown1', 'MarkDown2',\n",
    "       'MarkDown3', 'MarkDown4', 'MarkDown5', 'CPI', 'Unemployment',\n",
    "       'IsHoliday', 'Type', 'Size', 'Dept', 'Weekly_Sales', 'Month', 'Week',\n",
    "       'Year']\n",
    "\n",
    "# colors = ['#333F44', '#37AA9C', '#94F3E4', '#660000','#663300','#666600','#333300','#000000','#FF0000','#800000','#FFFF00',\n",
    "          '#808000','#00FF00', '#00FFFF','#008080','#0000FF', '#000080', '#FF00FF']\n",
    "\n",
    "\n",
    "# Create distplot with curve_type set to 'normal'\n",
    "#fig = ff.create_distplot(hist_data, group_labels, show_hist=False, colors=colors)\n",
    "\n",
    "# Add title\n",
    "#fig.update_layout(title_text='Curve and Rug Plot')\n",
    "#fig.show()"
   ]
  },
  {
   "cell_type": "code",
   "execution_count": null,
   "id": "mental-merchandise",
   "metadata": {
    "id": "mental-merchandise"
   },
   "outputs": [],
   "source": [
    "sns.distplot(df_total[\"Temperature\"])\n",
    "plt.show()"
   ]
  },
  {
   "cell_type": "code",
   "execution_count": null,
   "id": "certified-involvement",
   "metadata": {
    "id": "certified-involvement",
    "scrolled": true
   },
   "outputs": [],
   "source": [
    "sns.distplot(df_total[\"Unemployment\"])\n",
    "plt.show()"
   ]
  },
  {
   "cell_type": "code",
   "execution_count": null,
   "id": "abstract-facility",
   "metadata": {
    "id": "abstract-facility",
    "scrolled": true
   },
   "outputs": [],
   "source": [
    "sns.distplot(df_total[\"Fuel_Price\"])\n",
    "plt.show()"
   ]
  },
  {
   "cell_type": "code",
   "execution_count": null,
   "id": "peaceful-portuguese",
   "metadata": {
    "id": "peaceful-portuguese"
   },
   "outputs": [],
   "source": [
    "sns.boxplot(x=df_total[\"Temperature\"])\n",
    "plt.show()"
   ]
  },
  {
   "cell_type": "code",
   "execution_count": null,
   "id": "reasonable-cardiff",
   "metadata": {
    "id": "reasonable-cardiff"
   },
   "outputs": [],
   "source": [
    "sns.boxplot(x=df_total[\"Unemployment\"])\n",
    "plt.show()"
   ]
  },
  {
   "cell_type": "code",
   "execution_count": null,
   "id": "great-sculpture",
   "metadata": {
    "id": "great-sculpture"
   },
   "outputs": [],
   "source": [
    "sns.boxplot(x=df_total[\"Fuel_Price\"])\n",
    "plt.show()"
   ]
  },
  {
   "cell_type": "code",
   "execution_count": null,
   "id": "registered-camera",
   "metadata": {
    "id": "registered-camera",
    "scrolled": true
   },
   "outputs": [],
   "source": [
    "sns.boxplot(x=df_total[\"MarkDown5\"])\n",
    "plt.show()"
   ]
  },
  {
   "cell_type": "code",
   "execution_count": null,
   "id": "entitled-poker",
   "metadata": {},
   "outputs": [],
   "source": []
  }
 ],
 "metadata": {
  "colab": {
   "collapsed_sections": [],
   "name": "Copy of final_project9_version_3.ipynb",
   "provenance": [],
   "toc_visible": true
  },
  "kernelspec": {
   "display_name": "Python 3",
   "language": "python",
   "name": "python3"
  },
  "language_info": {
   "codemirror_mode": {
    "name": "ipython",
    "version": 3
   },
   "file_extension": ".py",
   "mimetype": "text/x-python",
   "name": "python",
   "nbconvert_exporter": "python",
   "pygments_lexer": "ipython3",
   "version": "3.9.2"
  },
  "toc": {
   "base_numbering": 1,
   "nav_menu": {},
   "number_sections": true,
   "sideBar": true,
   "skip_h1_title": false,
   "title_cell": "Table of Contents",
   "title_sidebar": "Contents",
   "toc_cell": false,
   "toc_position": {},
   "toc_section_display": true,
   "toc_window_display": false
  },
  "varInspector": {
   "cols": {
    "lenName": 16,
    "lenType": 16,
    "lenVar": 40
   },
   "kernels_config": {
    "python": {
     "delete_cmd_postfix": "",
     "delete_cmd_prefix": "del ",
     "library": "var_list.py",
     "varRefreshCmd": "print(var_dic_list())"
    },
    "r": {
     "delete_cmd_postfix": ") ",
     "delete_cmd_prefix": "rm(",
     "library": "var_list.r",
     "varRefreshCmd": "cat(var_dic_list()) "
    }
   },
   "types_to_exclude": [
    "module",
    "function",
    "builtin_function_or_method",
    "instance",
    "_Feature"
   ],
   "window_display": false
  }
 },
 "nbformat": 4,
 "nbformat_minor": 5
}
